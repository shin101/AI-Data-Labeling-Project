{
 "cells": [
  {
   "cell_type": "markdown",
   "id": "d8dc88be",
   "metadata": {},
   "source": [
    "## 06. 크기 조정"
   ]
  },
  {
   "cell_type": "markdown",
   "id": "7a3a0e03",
   "metadata": {},
   "source": [
    "## 이미지"
   ]
  },
  {
   "cell_type": "markdown",
   "id": "f35719cd",
   "metadata": {},
   "source": [
    "고정 크기로 설정"
   ]
  },
  {
   "cell_type": "code",
   "execution_count": 3,
   "id": "40cdfb54",
   "metadata": {},
   "outputs": [],
   "source": [
    "import cv2\n",
    "img = cv2.imread('img.jpg')\n",
    "dst = cv2.resize(img, (400, 500)) \n",
    "\n",
    "cv2.imshow('img',img)\n",
    "cv2.imshow('resize',dst)\n",
    "cv2.waitKey(0)\n",
    "cv2.destroyAllWindows()"
   ]
  },
  {
   "cell_type": "markdown",
   "id": "054d198c",
   "metadata": {},
   "source": [
    "비율로 설정"
   ]
  },
  {
   "cell_type": "code",
   "execution_count": 4,
   "id": "9b4c8d38",
   "metadata": {},
   "outputs": [],
   "source": [
    "import cv2\n",
    "img = cv2.imread('img.jpg')\n",
    "dst = cv2.resize(img, None, fx=0.5, fy=0.5)  # x,y 비율 정의 (00.5배로 축소)\n",
    "\n",
    "cv2.imshow('img',img)\n",
    "cv2.imshow('resize',dst)\n",
    "cv2.waitKey(0)\n",
    "cv2.destroyAllWindows()"
   ]
  },
  {
   "cell_type": "markdown",
   "id": "f969f176",
   "metadata": {},
   "source": [
    "### 보간법 (interpolation)\n",
    "when changing image size, interpolation makes it look more natural without breaking pixels down\n",
    "\n",
    "1. cv2.INTER_AREA : 크기 줄일때 사용\n",
    "1. cv2.INTER_CUBIC : 크기 늘릴 떄 사용 (속도 느림, 퀄리티 좋음)\n",
    "1. cv2.INTER_LINEAR : 크기 늘릴때 사용 (기본값)"
   ]
  },
  {
   "cell_type": "markdown",
   "id": "605cfe2a",
   "metadata": {},
   "source": [
    "보간법 적용하여 축소"
   ]
  },
  {
   "cell_type": "code",
   "execution_count": null,
   "id": "08a6bd4b",
   "metadata": {},
   "outputs": [],
   "source": [
    "import cv2\n",
    "img = cv2.imread('img.jpg')\n",
    "dst = cv2.resize(img, None, fx=0.5, fy=0.5, interpolation=cv2.INTER_AREA)  # x,y 비율 정의 (00.5배로 축소)\n",
    "\n",
    "cv2.imshow('img',img)\n",
    "cv2.imshow('resize',dst)\n",
    "cv2.waitKey(0)\n",
    "cv2.destroyAllWindows()"
   ]
  },
  {
   "cell_type": "markdown",
   "id": "26c6b1b8",
   "metadata": {},
   "source": [
    "보간법 적용하여 확대"
   ]
  },
  {
   "cell_type": "code",
   "execution_count": null,
   "id": "f3e8a521",
   "metadata": {},
   "outputs": [],
   "source": [
    "import cv2\n",
    "img = cv2.imread('img.jpg')\n",
    "dst = cv2.resize(img, None, fx=1.5, fy=1.5, interpolation=cv2.INTER_CUBIC)  # x,y 비율 정의 (00.5배로 축소)\n",
    "\n",
    "cv2.imshow('img',img)\n",
    "cv2.imshow('resize',dst)\n",
    "cv2.waitKey(0)\n",
    "cv2.destroyAllWindows()"
   ]
  },
  {
   "cell_type": "markdown",
   "id": "0388a3fa",
   "metadata": {},
   "source": [
    "## 동영상"
   ]
  },
  {
   "cell_type": "markdown",
   "id": "f9df35a3",
   "metadata": {},
   "source": [
    "고정 크기로 설정"
   ]
  },
  {
   "cell_type": "code",
   "execution_count": 8,
   "id": "5161eed7",
   "metadata": {},
   "outputs": [],
   "source": [
    "import cv2\n",
    "cap = cv2.VideoCapture('video.mp4')\n",
    "\n",
    "while cap.isOpened():\n",
    "    ret, frame = cap.read()\n",
    "    if not ret:\n",
    "        break\n",
    "    \n",
    "    frame_resized = cv2.resize(frame, (400, 500))\n",
    "    cv2.imshow('video',frame_resized)\n",
    "    if cv2.waitKey(1)==ord('q'):\n",
    "        break\n",
    "        \n",
    "cap.release()\n",
    "cv2.destroyAllWindows()"
   ]
  },
  {
   "cell_type": "markdown",
   "id": "5a43c3a5",
   "metadata": {},
   "source": [
    "비율로 설정"
   ]
  },
  {
   "cell_type": "code",
   "execution_count": null,
   "id": "e53b3053",
   "metadata": {},
   "outputs": [],
   "source": [
    "import cv2\n",
    "cap = cv2.VideoCapture('video.mp4')\n",
    "\n",
    "while cap.isOpened():\n",
    "    ret, frame = cap.read()\n",
    "    if not ret:\n",
    "        break\n",
    "    \n",
    "    frame_resized = cv2.resize(frame, None, fx=1.5, fy=1.5, interpolation=cv2.INTER_CUBIC)\n",
    "    cv2.imshow('video',frame_resized)\n",
    "    if cv2.waitKey(1)==ord('q'):\n",
    "        break\n",
    "        \n",
    "cap.release()\n",
    "cv2.destroyAllWindows()"
   ]
  },
  {
   "cell_type": "code",
   "execution_count": null,
   "id": "6622fe3e",
   "metadata": {},
   "outputs": [],
   "source": []
  }
 ],
 "metadata": {
  "kernelspec": {
   "display_name": "Python 3 (ipykernel)",
   "language": "python",
   "name": "python3"
  },
  "language_info": {
   "codemirror_mode": {
    "name": "ipython",
    "version": 3
   },
   "file_extension": ".py",
   "mimetype": "text/x-python",
   "name": "python",
   "nbconvert_exporter": "python",
   "pygments_lexer": "ipython3",
   "version": "3.8.12"
  }
 },
 "nbformat": 4,
 "nbformat_minor": 5
}
