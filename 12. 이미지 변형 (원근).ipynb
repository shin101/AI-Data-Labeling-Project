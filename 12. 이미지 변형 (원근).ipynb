{
 "cells": [
  {
   "cell_type": "markdown",
   "id": "9d2e74f3",
   "metadata": {},
   "source": [
    "# 12. 이미지 변형 (원근)"
   ]
  },
  {
   "cell_type": "markdown",
   "id": "2db68f9d",
   "metadata": {},
   "source": [
    "## 사다리꼴 이미지 펼치기"
   ]
  },
  {
   "cell_type": "code",
   "execution_count": 2,
   "id": "317deaa5",
   "metadata": {},
   "outputs": [],
   "source": [
    "import cv2\n",
    "import numpy as np\n",
    "\n",
    "img = cv2.imread('newspaper.jpg')\n",
    "\n",
    "width, height = 640, 240\n",
    "\n",
    "src = np.array([[511,352],[1008,345],[1122, 584],[455,594]], dtype=np.float32) # Input 4개 지점\n",
    "dst = np.array([[0,0],[width,0],[width,height],[0,height]], dtype=np.float32) # Output 4개 지점\n",
    "# 좌상, 우상, 우하, 좌하 (시계 방향으로 4지점 정의)\n",
    "\n",
    "\n",
    "matrix = cv2.getPerspectiveTransform(src,dst)\n",
    "result = cv2.warpPerspective(img, matrix, (width,height)) #matrix대로 변환을 함\n",
    "\n",
    "cv2.imshow('img',img)\n",
    "cv2.imshow('result',result)\n",
    "cv2.waitKey(0)\n",
    "cv2.destroyAllWindows()"
   ]
  },
  {
   "cell_type": "markdown",
   "id": "1a200ab8",
   "metadata": {},
   "source": [
    "## 회전된 이미지 올바로 세우기"
   ]
  },
  {
   "cell_type": "code",
   "execution_count": 3,
   "id": "1071f9d4",
   "metadata": {},
   "outputs": [],
   "source": [
    "import cv2\n",
    "import numpy as np\n",
    "\n",
    "img = cv2.imread('poker.jpg')\n",
    "\n",
    "width, height = 530, 710\n",
    "\n",
    "src = np.array([[702,143],[1133,414],[726,1007],[276,700]], dtype=np.float32) # Input 4개 지점\n",
    "dst = np.array([[0,0],[width,0],[width,height],[0,height]], dtype=np.float32) # Output 4개 지점\n",
    "# 좌상, 우상, 우하, 좌하 (시계 방향으로 4지점 정의)\n",
    "\n",
    "\n",
    "matrix = cv2.getPerspectiveTransform(src,dst)\n",
    "result = cv2.warpPerspective(img, matrix, (width,height)) #matrix대로 변환을 함\n",
    "\n",
    "cv2.imshow('img',img)\n",
    "cv2.imshow('result',result)\n",
    "cv2.waitKey(0)\n",
    "cv2.destroyAllWindows()"
   ]
  },
  {
   "cell_type": "markdown",
   "id": "495ac80f",
   "metadata": {},
   "source": [
    "## 미니 프로젝트 : 반자동 문서 스캐너"
   ]
  },
  {
   "cell_type": "markdown",
   "id": "96596a96",
   "metadata": {},
   "source": [
    "### 마우스 이벤트 등록"
   ]
  },
  {
   "cell_type": "code",
   "execution_count": null,
   "id": "e4701f9d",
   "metadata": {},
   "outputs": [],
   "source": [
    "import cv2\n",
    "\n",
    "def mouse_handler(event,x,y,flags,param):\n",
    "    if event == cv2.EVENT_LBUTTONDOWN:\n",
    "        print('왼쪽 버튼 Down')\n",
    "        print(x,y)\n",
    "    elif event == cv2.EVENT_LBUTTONUP:\n",
    "        print('왼쪽 버튼 Up')\n",
    "        print(x,y)\n",
    "    elif event == cv2.EVENT_LBUTTONDBLCLK: #마우스 왼쪽 버튼 더블 클릭\n",
    "        print('왼쪽 버튼 Double Click')\n",
    "#     elif event == cv2.EVENT_MOUSEMOVE:\n",
    "#         print('마우스 이동')\n",
    "    elif event == cv2.EVENT_RBUTTONDOWN: #오른쪽 버튼 Down\n",
    "        print('오른쪽 버튼 Down ')\n",
    "\n",
    "\n",
    "img = cv2.imread('poker.jpg')\n",
    "cv2.namedWindow('img') # img란 이름의 윈도우를 먼저 만들어 두는것. 여기에 마우스 이벤트를 처리하기 위한 핸들러 적용\n",
    "cv2.setMouseCallback('img',mouse_handler)\n",
    "cv2.imshow('img',img)\n",
    "cv2.waitKey(0)\n",
    "cv2.destroyAllWindows()"
   ]
  },
  {
   "cell_type": "markdown",
   "id": "892310b4",
   "metadata": {},
   "source": [
    "## 프로젝트"
   ]
  },
  {
   "cell_type": "code",
   "execution_count": null,
   "id": "924adc1c",
   "metadata": {},
   "outputs": [],
   "source": [
    "import cv2\n",
    "import numpy as np\n",
    "\n",
    "point_list = []\n",
    "src_img = cv2.imread('poker.jpg')\n",
    "\n",
    "COLOR = (255,0,255) #BGR, 핑크\n",
    "THICKNESS = 3\n",
    "drawing = False # 선을 그릴지 여부\n",
    "\n",
    "def mouse_handler(event,x,y,flags,param):\n",
    "    global drawing\n",
    "    dst_img = src_img.copy()\n",
    "    \n",
    "    if event == cv2.EVENT_LBUTTONDOWN:\n",
    "        drawing = True # 선 그리기 시작\n",
    "        point_list.append((x,y))\n",
    "\n",
    "    if drawing : \n",
    "        prev_point = None # 직선의 시작점\n",
    "        for point in point_list:\n",
    "            cv2.circle(dst_img, point, 15, COLOR, cv2.FILLED)\n",
    "            if prev_point:\n",
    "                cv2.line(dst_img, prev_point, point, COLOR, THICKNESS,cv2.LINE_AA)\n",
    "            prev_point = point\n",
    "        \n",
    "        next_point= (x,y)\n",
    "        if len(point_list) ==4:\n",
    "            show_result()\n",
    "            next_point = point_list[0] # 첫 번째 클릭한 지점\n",
    "        \n",
    "        cv2.line(dst_img, prev_point, point, COLOR, THICKNESS,cv2.LINE_AA)\n",
    "        \n",
    "    \n",
    "    cv2.imshow('img',dst_img)\n",
    "\n",
    "def show_result():\n",
    "    width, height = 530, 710\n",
    "    \n",
    "    src = np.float32(point_list)\n",
    "    dst = np.array([[0,0],[width,0],[width,height],[0,height]], dtype=np.float32) # Output 4개 지점\n",
    "    # 좌상, 우상, 우하, 좌하 (시계 방향으로 4지점 정의)\n",
    "\n",
    "    matrix = cv2.getPerspectiveTransform(src,dst)\n",
    "    result = cv2.warpPerspective(src_img, matrix, (width,height)) #matrix대로 변환을 함\n",
    "    cv2.imshow('result',result)\n",
    "\n",
    "cv2.namedWindow('img') # img란 이름의 윈도우를 먼저 만들어 두는것. 여기에 마우스 이벤트를 처리하기 위한 핸들러 적용\n",
    "cv2.setMouseCallback('img',mouse_handler)\n",
    "cv2.imshow('img', src_img)\n",
    "cv2.waitKey(0)\n",
    "cv2.destroyAllWindows()\n",
    "\n",
    "\n",
    "\n",
    "from __future__ import print_function\n",
    "from __future__ import division\n",
    "import cv2 as cv\n",
    "import argparse\n",
    "alpha_slider_max = 100\n",
    "def on_trackbar(val):\n",
    "    alpha = val / alpha_slider_max\n",
    "    beta = ( 1.0 - alpha )\n",
    "    dst = cv2.addWeighted(src1, alpha, src2, beta, 0.0)\n",
    "    cv.imshow('img', dst)\n",
    "parser = argparse.ArgumentParser(description='Code for Adding a Trackbar to our applications tutorial.')\n",
    "parser.add_argument('--input1', help='Path to the first input image.', default='LinuxLogo.jpg')\n",
    "parser.add_argument('--input2', help='Path to the second input image.', default='WindowsLogo.jpg')\n",
    "args = parser.parse_args()\n",
    "src1 = cv2.imread(cv.samples.findFile(args.input1))\n",
    "src2 = cv2.imread(cv.samples.findFile(args.input2))\n",
    "if src1 is None:\n",
    "    print('Could not open or find the image: ', args.input1)\n",
    "    exit(0)\n",
    "if src2 is None:\n",
    "    print('Could not open or find the image: ', args.input2)\n",
    "    exit(0)\n",
    "trackbar_name = 'Alpha x %d' % alpha_slider_max\n",
    "cv2.createTrackbar(trackbar_name, 'img', 0, alpha_slider_max, on_trackbar)\n",
    "# Show some stuff\n",
    "on_trackbar(0)"
   ]
  },
  {
   "cell_type": "code",
   "execution_count": null,
   "id": "e2b6ca8e",
   "metadata": {},
   "outputs": [],
   "source": []
  },
  {
   "cell_type": "code",
   "execution_count": null,
   "id": "687e7c55",
   "metadata": {},
   "outputs": [],
   "source": []
  },
  {
   "cell_type": "code",
   "execution_count": null,
   "id": "7f5ded69",
   "metadata": {},
   "outputs": [],
   "source": []
  },
  {
   "cell_type": "code",
   "execution_count": null,
   "id": "3be54af3",
   "metadata": {},
   "outputs": [],
   "source": []
  },
  {
   "cell_type": "code",
   "execution_count": null,
   "id": "7662a52b",
   "metadata": {},
   "outputs": [],
   "source": []
  },
  {
   "cell_type": "code",
   "execution_count": null,
   "id": "a76973c4",
   "metadata": {},
   "outputs": [],
   "source": []
  }
 ],
 "metadata": {
  "kernelspec": {
   "display_name": "Python 3 (ipykernel)",
   "language": "python",
   "name": "python3"
  },
  "language_info": {
   "codemirror_mode": {
    "name": "ipython",
    "version": 3
   },
   "file_extension": ".py",
   "mimetype": "text/x-python",
   "name": "python",
   "nbconvert_exporter": "python",
   "pygments_lexer": "ipython3",
   "version": "3.8.12"
  }
 },
 "nbformat": 4,
 "nbformat_minor": 5
}
