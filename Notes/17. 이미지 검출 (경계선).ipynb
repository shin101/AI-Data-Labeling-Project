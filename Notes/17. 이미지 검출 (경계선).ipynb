{
 "cells": [
  {
   "cell_type": "markdown",
   "id": "ab917872",
   "metadata": {},
   "source": [
    "# 17. 이미지 검출 (경계선)"
   ]
  },
  {
   "cell_type": "markdown",
   "id": "0f73d0d5",
   "metadata": {},
   "source": [
    "## Canny Edge Detection"
   ]
  },
  {
   "cell_type": "code",
   "execution_count": null,
   "id": "f305dc5a",
   "metadata": {},
   "outputs": [],
   "source": [
    "import cv2\n",
    "imt = cv2.imread('snowman.png')\n",
    "\n",
    "canny = cv2.Canny(img, 150, 200)\n",
    "# 대상 이미지, minVal, maxVal\n",
    "\n",
    "cv2.imshow('img',img)\n",
    "cv2.imshow('canny',canny)\n",
    "cv2.waitKey(0)\n",
    "cv2.destroyAllWindows()"
   ]
  },
  {
   "cell_type": "code",
   "execution_count": null,
   "id": "90707c2d",
   "metadata": {},
   "outputs": [],
   "source": [
    "import cv2\n",
    "\n",
    "def empty(pos):\n",
    "    pass\n",
    "\n",
    "imt = cv2.imread('snowman.png')\n",
    "\n",
    "name = \"Trackbar\"\n",
    "cv2.namedWindow(name)\n",
    "cv2.createTrackbar('threshold1',name,0,255,empty) #minVal\n",
    "cv2.createTrackbar('threshold2',name,0,255,empty) #maxVal\n",
    "\n",
    "while True:\n",
    "    threshold1 = cv2.getTrackbarPos('threshold1',name)\n",
    "    threshold2 = cv2.getTrackbarPos('threshold2',name)\n",
    "    canny = cv2.Canny(img, threshold1, threshold2)\n",
    "    # 대상 이미지, minVal, maxVal\n",
    "\n",
    "    cv2.imshow('img',img)\n",
    "    cv2.imshow(name,canny)\n",
    "    \n",
    "    if cv2.waitKey(1) == ord('q'):\n",
    "        break\n",
    "\n",
    "cv2.destroyAllWindows()"
   ]
  },
  {
   "cell_type": "code",
   "execution_count": null,
   "id": "212e937d",
   "metadata": {},
   "outputs": [],
   "source": []
  },
  {
   "cell_type": "code",
   "execution_count": null,
   "id": "aacbbd04",
   "metadata": {},
   "outputs": [],
   "source": []
  },
  {
   "cell_type": "code",
   "execution_count": null,
   "id": "369c2e37",
   "metadata": {},
   "outputs": [],
   "source": []
  },
  {
   "cell_type": "code",
   "execution_count": null,
   "id": "0e4eb131",
   "metadata": {},
   "outputs": [],
   "source": []
  },
  {
   "cell_type": "code",
   "execution_count": null,
   "id": "70232ba1",
   "metadata": {},
   "outputs": [],
   "source": []
  },
  {
   "cell_type": "code",
   "execution_count": null,
   "id": "8fb8e8ee",
   "metadata": {},
   "outputs": [],
   "source": []
  }
 ],
 "metadata": {
  "kernelspec": {
   "display_name": "Python 3 (ipykernel)",
   "language": "python",
   "name": "python3"
  },
  "language_info": {
   "codemirror_mode": {
    "name": "ipython",
    "version": 3
   },
   "file_extension": ".py",
   "mimetype": "text/x-python",
   "name": "python",
   "nbconvert_exporter": "python",
   "pygments_lexer": "ipython3",
   "version": "3.8.12"
  }
 },
 "nbformat": 4,
 "nbformat_minor": 5
}
