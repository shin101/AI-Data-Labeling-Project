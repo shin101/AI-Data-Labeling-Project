{
 "cells": [
  {
   "cell_type": "markdown",
   "id": "550f9c8e",
   "metadata": {},
   "source": [
    "# 3. 도형 그리기"
   ]
  },
  {
   "cell_type": "markdown",
   "id": "c08b7b59",
   "metadata": {},
   "source": [
    "## 빈 스케치북 만들기"
   ]
  },
  {
   "cell_type": "code",
   "execution_count": 6,
   "id": "c40fc518",
   "metadata": {},
   "outputs": [],
   "source": [
    "import cv2\n",
    "import numpy as np\n",
    "\n",
    "# 세로 480 x 가로 640, 3 Channel (RGB)에 해당하는 스케치북 만들기\n",
    "img = np.zeros((480, 640, 3), dtype=np.uint8) #zeros는 제로로 체우는거\n",
    "# img[:] = (255,255,255) # 전체 공간을 흰색으로 채우기. In openCV, not RGB order, BGR order\n",
    "# print(img)\n",
    "cv2.imshow('img',img)\n",
    "cv2.waitKey(0)\n",
    "cv2.destroyAllWindows()"
   ]
  },
  {
   "cell_type": "markdown",
   "id": "8dc260f4",
   "metadata": {},
   "source": [
    "## 일부 영역 색칠"
   ]
  },
  {
   "cell_type": "code",
   "execution_count": 3,
   "id": "0aa86f07",
   "metadata": {},
   "outputs": [],
   "source": [
    "import cv2\n",
    "import numpy as np\n",
    "\n",
    "img = np.zeros((480, 640, 3), dtype=np.uint8) # 전체 공간을 흰색으로 채우기. In openCV, not RGB order, BGR order\n",
    "img[100:200,200:300] = (255, 255, 255) #height,width pixels, we are filling with white\n",
    "\n",
    "cv2.imshow('img',img)\n",
    "cv2.waitKey(0)\n",
    "cv2.destroyAllWindows()"
   ]
  },
  {
   "cell_type": "markdown",
   "id": "b524a574",
   "metadata": {},
   "source": [
    "## 직선\n",
    "Line type\n",
    "\n",
    "1. cv2.LINE_4 : 상하좌우 4 방향으로 연결된 선\n",
    "1. cv2.LINE_8 : 대각선을 포함한 8 방향으로 연결되 선 (기본값)\n",
    "1. cv2.LINE_AA : 부드러운 선 (anti-aliasing)"
   ]
  },
  {
   "cell_type": "code",
   "execution_count": null,
   "id": "3e58afdc",
   "metadata": {},
   "outputs": [],
   "source": [
    "import cv2\n",
    "import numpy as np\n",
    "\n",
    "img = np.zeros((480, 640, 3), dtype=np.uint8) #making sketchbook\n",
    "\n",
    "COLOR = (0,255,255) #BGR 순서. This will return yellow\n",
    "THICKNESS = 3\n",
    "\n",
    "cv2.line(img, (50, 100), (400,50), COLOR, THICKNESS, cv2.LINE_8)\n",
    "# 그릴 위치, 시작 점, 끝 점, 색깔, 두께, 선 종류\n",
    "cv2.line(img, (50, 200), (400,150), COLOR, THICKNESS, cv2.LINE_4)\n",
    "cv2.line(img, (50, 300), (400,250), COLOR, THICKNESS, cv2.LINE_AA)\n",
    "\n",
    "cv2.imshow('img',img)\n",
    "cv2.waitKey(0)\n",
    "cv2.destroyAllWindows()"
   ]
  },
  {
   "cell_type": "markdown",
   "id": "a66bfef9",
   "metadata": {},
   "source": [
    "## 원"
   ]
  },
  {
   "cell_type": "code",
   "execution_count": null,
   "id": "481d1914",
   "metadata": {},
   "outputs": [],
   "source": [
    "import cv2\n",
    "import numpy as np\n",
    "\n",
    "img = np.zeros((480, 640, 3), dtype=np.uint8) \n",
    "\n",
    "COLOR = (255,255,0) \n",
    "RADIUS = 50\n",
    "THICKNESS = 10\n",
    "\n",
    "cv2.circle(img,(200,100),RADIUS,COLOR,THICKNESS,cv2.LINE_AA) #속이 빈 원\n",
    "#그릴 위치, 원의 중심점, 반지름, 색깔, 두께, 선 종류\n",
    "cv2.circle(img,(400,100),RADIUS,COLOR,cv2.FILLED,cv2.LINE_AA) #속이 꽉 찬 원\n",
    "\n",
    "cv2.imshow('img',img)\n",
    "cv2.waitKey(0)\n",
    "cv2.destroyAllWindows()"
   ]
  },
  {
   "cell_type": "markdown",
   "id": "62959f19",
   "metadata": {},
   "source": [
    "## 사각형"
   ]
  },
  {
   "cell_type": "code",
   "execution_count": 1,
   "id": "c4c40bff",
   "metadata": {},
   "outputs": [],
   "source": [
    "import cv2\n",
    "import numpy as np\n",
    "\n",
    "img = np.zeros((480, 640, 3), dtype=np.uint8) \n",
    "\n",
    "COLOR = (0,255,0)  # BGR 초록색\n",
    "THICKNESS = 3\n",
    "\n",
    "cv2.rectangle(img,(100,100),(200,200), COLOR, THICKNESS) #속이 빈 사각형\n",
    "\n",
    "cv2.rectangle(img,(300,100),(400,300), COLOR, THICKNESS, cv2.FILLED) #꽉 찬 사각형\n",
    "\n",
    "cv2.imshow('img',img)\n",
    "cv2.waitKey(0)\n",
    "cv2.destroyAllWindows()"
   ]
  },
  {
   "cell_type": "markdown",
   "id": "0420953e",
   "metadata": {},
   "source": [
    "## 다각형"
   ]
  },
  {
   "cell_type": "code",
   "execution_count": 1,
   "id": "fb40785b",
   "metadata": {},
   "outputs": [],
   "source": [
    "import cv2\n",
    "import numpy as np\n",
    "\n",
    "img = np.zeros((480, 640, 3), dtype=np.uint8) \n",
    "\n",
    "COLOR = (0,0,255)  # BGR 빨간색\n",
    "THICKNESS = 3\n",
    "\n",
    "pts1 = np.array([[100,100],[200,100],[100,200]]) \n",
    "pts2 = np.array([[200,100],[300,100],[300,200]])\n",
    "\n",
    "# cv2.polylines(img,[pts1],True,COLOR,THICKNESS,cv2.LINE_AA)\n",
    "# cv2.polylines(img,[pts2],True,COLOR,THICKNESS,cv2.LINE_AA)\n",
    "cv2.polylines(img,[pts1,pts2],True,COLOR,THICKNESS,cv2.LINE_AA)#속이 빈 다각형\n",
    "# 그릴 위치, 그릴 좌표들, 닫힘 여부 (isOpen = True/false), 두께, 선 종류\n",
    "\n",
    "pts3 = np.array([[[100,300],[200,300],[100,400]],[[200,300],[300,300],[300,400]]])\n",
    "cv2.fillPoly(img,pts3, COLOR, cv2.LINE_AA)#속이 찬 다각형\n",
    "\n",
    "\n",
    "cv2.imshow('img',img)\n",
    "cv2.waitKey(0)\n",
    "cv2.destroyAllWindows()"
   ]
  },
  {
   "cell_type": "code",
   "execution_count": null,
   "id": "ab3428ee",
   "metadata": {},
   "outputs": [],
   "source": []
  },
  {
   "cell_type": "code",
   "execution_count": null,
   "id": "91c9b91e",
   "metadata": {},
   "outputs": [],
   "source": []
  },
  {
   "cell_type": "code",
   "execution_count": null,
   "id": "6f980e9f",
   "metadata": {},
   "outputs": [],
   "source": []
  },
  {
   "cell_type": "code",
   "execution_count": null,
   "id": "59d13ba2",
   "metadata": {},
   "outputs": [],
   "source": []
  }
 ],
 "metadata": {
  "kernelspec": {
   "display_name": "Python 3 (ipykernel)",
   "language": "python",
   "name": "python3"
  },
  "language_info": {
   "codemirror_mode": {
    "name": "ipython",
    "version": 3
   },
   "file_extension": ".py",
   "mimetype": "text/x-python",
   "name": "python",
   "nbconvert_exporter": "python",
   "pygments_lexer": "ipython3",
   "version": "3.8.12"
  }
 },
 "nbformat": 4,
 "nbformat_minor": 5
}
