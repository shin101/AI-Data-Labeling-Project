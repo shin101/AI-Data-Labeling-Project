{
 "cells": [
  {
   "cell_type": "markdown",
   "id": "5e7b1051",
   "metadata": {},
   "source": [
    "# 05. 파일저장"
   ]
  },
  {
   "cell_type": "markdown",
   "id": "2c4e3030",
   "metadata": {},
   "source": [
    "## 이미지 저장"
   ]
  },
  {
   "cell_type": "code",
   "execution_count": 3,
   "id": "670b1db2",
   "metadata": {},
   "outputs": [
    {
     "name": "stdout",
     "output_type": "stream",
     "text": [
      "True\n"
     ]
    }
   ],
   "source": [
    "import cv2\n",
    "img = cv2.imread('img.jpg',cv2.IMREAD_GRAYSCALE) #흑백으로 이미지 불러오기\n",
    "cv2.imshow('img',img)\n",
    "cv2.waitKey(0)\n",
    "cv2.destroyAllWindows()\n",
    "\n",
    "result = cv2.imwrite('img_save.jpg',img)\n",
    "print(result)"
   ]
  },
  {
   "cell_type": "markdown",
   "id": "ad971ffd",
   "metadata": {},
   "source": [
    "### 저장 포맷 (jpg,png)"
   ]
  },
  {
   "cell_type": "code",
   "execution_count": 4,
   "id": "52bf882a",
   "metadata": {},
   "outputs": [
    {
     "data": {
      "text/plain": [
       "True"
      ]
     },
     "execution_count": 4,
     "metadata": {},
     "output_type": "execute_result"
    }
   ],
   "source": [
    "import cv2\n",
    "img = cv2.imread('img.jpg',cv2.IMREAD_GRAYSCALE) #흑백으로 이미지 불러오기\n",
    "cv2.imwrite('img_save.png',img)\n"
   ]
  },
  {
   "cell_type": "markdown",
   "id": "08526281",
   "metadata": {},
   "source": [
    "## 동영상 저장"
   ]
  },
  {
   "cell_type": "code",
   "execution_count": 9,
   "id": "13db2874",
   "metadata": {},
   "outputs": [
    {
     "name": "stderr",
     "output_type": "stream",
     "text": [
      "OpenCV: FFMPEG: tag 0x58564944/'DIVX' is not supported with codec id 12 and format 'mp4 / MP4 (MPEG-4 Part 14)'\n",
      "OpenCV: FFMPEG: fallback to use tag 0x7634706d/'mp4v'\n"
     ]
    }
   ],
   "source": [
    "import cv2\n",
    "cap = cv2.VideoCapture('video.mp4')\n",
    "\n",
    "# 코덱 정의\n",
    "fourcc = cv2.VideoWriter_fourcc(*'DIVX') # *'DIVX' is the same as 'D', 'I', \"V\", 'X'\n",
    "\n",
    "width = round(cap.get(cv2.CAP_PROP_FRAME_WIDTH))\n",
    "height = round(cap.get(cv2.CAP_PROP_FRAME_HEIGHT))\n",
    "fps = cap.get(cv2.CAP_PROP_FPS) * 2 #영상 재생 속도가 2배\n",
    "\n",
    "out = cv2.VideoWriter('output_fast.mp4',fourcc,fps, (width,height))\n",
    "# 저장 파일명, 코덱, FPS, 크기(width, height)\n",
    "\n",
    "while cap.isOpened():\n",
    "    ret, frame = cap.read()\n",
    "    if not ret:\n",
    "        break\n",
    "        \n",
    "    out.write(frame) # 영상 데이터만 저장 (소리 X)\n",
    "    cv2.imshow('video',frame)\n",
    "    if cv2.waitKey(1) == ord('q'):\n",
    "        break\n",
    "        \n",
    "out.release() # 자원 해제        \n",
    "cap.release()\n",
    "cv2.destroyAllWindows()"
   ]
  },
  {
   "cell_type": "code",
   "execution_count": 7,
   "id": "4e6f2c94",
   "metadata": {},
   "outputs": [
    {
     "name": "stdout",
     "output_type": "stream",
     "text": [
      "DIVX\n",
      "D I V X\n",
      "['DIVX']\n",
      "['D', 'I', 'V', 'X']\n"
     ]
    }
   ],
   "source": [
    "codec = 'DIVX'\n",
    "print(codec)\n",
    "print(*codec)\n",
    "print([codec])\n",
    "print([*codec])"
   ]
  },
  {
   "cell_type": "code",
   "execution_count": null,
   "id": "78c29312",
   "metadata": {},
   "outputs": [],
   "source": []
  },
  {
   "cell_type": "code",
   "execution_count": null,
   "id": "cae78b88",
   "metadata": {},
   "outputs": [],
   "source": []
  },
  {
   "cell_type": "code",
   "execution_count": null,
   "id": "9ec9fff1",
   "metadata": {},
   "outputs": [],
   "source": []
  },
  {
   "cell_type": "code",
   "execution_count": null,
   "id": "1d93c49d",
   "metadata": {},
   "outputs": [],
   "source": []
  },
  {
   "cell_type": "code",
   "execution_count": null,
   "id": "d19cb578",
   "metadata": {},
   "outputs": [],
   "source": []
  },
  {
   "cell_type": "code",
   "execution_count": null,
   "id": "5d3a7c51",
   "metadata": {},
   "outputs": [],
   "source": []
  }
 ],
 "metadata": {
  "kernelspec": {
   "display_name": "Python 3 (ipykernel)",
   "language": "python",
   "name": "python3"
  },
  "language_info": {
   "codemirror_mode": {
    "name": "ipython",
    "version": 3
   },
   "file_extension": ".py",
   "mimetype": "text/x-python",
   "name": "python",
   "nbconvert_exporter": "python",
   "pygments_lexer": "ipython3",
   "version": "3.8.12"
  }
 },
 "nbformat": 4,
 "nbformat_minor": 5
}
